{
 "cells": [
  {
   "cell_type": "code",
   "execution_count": 223,
   "metadata": {},
   "outputs": [],
   "source": [
    "import pandas as pd\n",
    "import numpy as np\n",
    "from sklearn.feature_extraction.text import CountVectorizer\n",
    "from sklearn.feature_extraction.text import TfidfTransformer"
   ]
  },
  {
   "cell_type": "code",
   "execution_count": 205,
   "metadata": {},
   "outputs": [],
   "source": [
    "def transform_string_merge(df):\n",
    "    # First transform all the relevant numerical columns to strings\n",
    "    df[\"Type\"] = df[\"Type\"].apply(lambda x: \"Dog\" if x == 1 else \"Cat\")\n",
    "    \n",
    "    breed = pd.read_csv(\"BreedLabels.csv\")\n",
    "    breed_dict = dict(zip(breed[\"BreedID\"], breed[\"BreedName\"]))\n",
    "    df[\"Breed1\"] = df[\"Breed1\"].map(breed_dict)\n",
    "    df[\"Breed2\"] = df[\"Breed2\"].map(breed_dict)\n",
    "    \n",
    "    gender_dict = {1:\"Male\", 2:\"Female\", 3:\"Mixed\"}\n",
    "    df[\"Gender\"] = df[\"Gender\"].map(gender_dict)\n",
    "    \n",
    "    color = pd.read_csv(\"ColorLabels.csv\")\n",
    "    color_dict = dict(zip(color[\"ColorID\"], color[\"ColorName\"]))\n",
    "    df[\"Color1\"] = df[\"Color1\"].map(color_dict)\n",
    "    df[\"Color2\"] = df[\"Color2\"].map(color_dict)\n",
    "    df[\"Color3\"] = df[\"Color3\"].map(color_dict)\n",
    "    \n",
    "    maturity_dict = {1:\"Small\", 2:\"Medium\", 3:\"Large\", 4:\"Extra Large\", 0:\"Not Specified\"}\n",
    "    df[\"MaturitySize\"] = df[\"MaturitySize\"].map(maturity_dict)\n",
    "    \n",
    "    fur_dict = {1:\"Short\", 2:\"Medium\", 3:\"Long\", 0:\"Not Specified\"}\n",
    "    df[\"FurLength\"] = df[\"FurLength\"].map(fur_dict)\n",
    "\n",
    "    binary_dict = {1:\"Yes\", 2:\"No\", 3:\"Not Sure\"}\n",
    "    df[\"Vaccinated\"] = df[\"Vaccinated\"].map(binary_dict)\n",
    "    df[\"Dewormed\"] = df[\"Dewormed\"].map(binary_dict)\n",
    "    df[\"Sterilized\"] = df[\"Sterilized\"].map(binary_dict)\n",
    "\n",
    "    health_dict = {1:\"Healthy\", 2:\"Minor Injury\", 3:\"Serious Injury\", 0:\"Not Specified\"}\n",
    "    df[\"Health\"] = df[\"Health\"].map(health_dict)\n",
    "\n",
    "    state = pd.read_csv(\"StateLabels.csv\")\n",
    "    state_dict = dict(zip(state[\"StateID\"], state[\"StateName\"]))\n",
    "    df[\"State\"] = df[\"State\"].map(state_dict)\n",
    "\n",
    "    # Turn all columns into strings and then combine in new column as one string\n",
    "    all_columns = list(df) # Creates list of all column headers\n",
    "    df[all_columns] = df[all_columns].astype(str)\n",
    "    # Combine all relevant columns as one string\n",
    "    df[\"x_string\"] = df[['Name', \n",
    "                         'Age', \n",
    "                         'Breed1', \n",
    "                         'Breed2', \n",
    "                         'Gender', \n",
    "                         'Color1', \n",
    "                         'Color2', \n",
    "                         'Color3', \n",
    "                         'MaturitySize', \n",
    "                         'FurLength', \n",
    "                         'Vaccinated', \n",
    "                         'Dewormed', \n",
    "                         'Sterilized', \n",
    "                         'Health', \n",
    "                         'Fee', \n",
    "                         'State', \n",
    "                         'Description']].agg(' '.join, axis=1)\n",
    "\n",
    "    df_new = df[[\"x_string\", \"AdoptionSpeed\"]]\n",
    "    \n",
    "    return df_new"
   ]
  },
  {
   "cell_type": "code",
   "execution_count": 206,
   "metadata": {},
   "outputs": [],
   "source": [
    "pd.options.display.max_columns = None\n",
    "pd.options.display.max_rows = None"
   ]
  },
  {
   "cell_type": "code",
   "execution_count": 211,
   "metadata": {},
   "outputs": [],
   "source": [
    "train = pd.read_csv(\"train/train.csv\")\n",
    "test = pd.read_csv(\"test/test.csv\")"
   ]
  },
  {
   "cell_type": "code",
   "execution_count": 212,
   "metadata": {},
   "outputs": [
    {
     "data": {
      "text/html": [
       "<div>\n",
       "<style scoped>\n",
       "    .dataframe tbody tr th:only-of-type {\n",
       "        vertical-align: middle;\n",
       "    }\n",
       "\n",
       "    .dataframe tbody tr th {\n",
       "        vertical-align: top;\n",
       "    }\n",
       "\n",
       "    .dataframe thead th {\n",
       "        text-align: right;\n",
       "    }\n",
       "</style>\n",
       "<table border=\"1\" class=\"dataframe\">\n",
       "  <thead>\n",
       "    <tr style=\"text-align: right;\">\n",
       "      <th></th>\n",
       "      <th>x_string</th>\n",
       "      <th>AdoptionSpeed</th>\n",
       "    </tr>\n",
       "  </thead>\n",
       "  <tbody>\n",
       "    <tr>\n",
       "      <th>0</th>\n",
       "      <td>Nibble 3 Tabby nan Male Black White nan Small ...</td>\n",
       "      <td>2</td>\n",
       "    </tr>\n",
       "    <tr>\n",
       "      <th>1</th>\n",
       "      <td>No Name Yet 1 Domestic Medium Hair nan Male Bl...</td>\n",
       "      <td>0</td>\n",
       "    </tr>\n",
       "    <tr>\n",
       "      <th>2</th>\n",
       "      <td>Brisco 1 Mixed Breed nan Male Brown White nan ...</td>\n",
       "      <td>3</td>\n",
       "    </tr>\n",
       "    <tr>\n",
       "      <th>3</th>\n",
       "      <td>Miko 4 Mixed Breed nan Female Black Brown nan ...</td>\n",
       "      <td>2</td>\n",
       "    </tr>\n",
       "    <tr>\n",
       "      <th>4</th>\n",
       "      <td>Hunter 1 Mixed Breed nan Male Black nan nan Me...</td>\n",
       "      <td>2</td>\n",
       "    </tr>\n",
       "  </tbody>\n",
       "</table>\n",
       "</div>"
      ],
      "text/plain": [
       "                                            x_string AdoptionSpeed\n",
       "0  Nibble 3 Tabby nan Male Black White nan Small ...             2\n",
       "1  No Name Yet 1 Domestic Medium Hair nan Male Bl...             0\n",
       "2  Brisco 1 Mixed Breed nan Male Brown White nan ...             3\n",
       "3  Miko 4 Mixed Breed nan Female Black Brown nan ...             2\n",
       "4  Hunter 1 Mixed Breed nan Male Black nan nan Me...             2"
      ]
     },
     "execution_count": 212,
     "metadata": {},
     "output_type": "execute_result"
    }
   ],
   "source": [
    "train_processed = transform_string_merge(train)\n",
    "train_processed.head()"
   ]
  },
  {
   "cell_type": "code",
   "execution_count": 222,
   "metadata": {
    "collapsed": true
   },
   "outputs": [
    {
     "name": "stdout",
     "output_type": "stream",
     "text": [
      "<class 'pandas.core.frame.DataFrame'>\n",
      "RangeIndex: 14993 entries, 0 to 14992\n",
      "Data columns (total 25 columns):\n",
      " #   Column         Non-Null Count  Dtype \n",
      "---  ------         --------------  ----- \n",
      " 0   Type           14993 non-null  object\n",
      " 1   Name           14993 non-null  object\n",
      " 2   Age            14993 non-null  object\n",
      " 3   Breed1         14993 non-null  object\n",
      " 4   Breed2         14993 non-null  object\n",
      " 5   Gender         14993 non-null  object\n",
      " 6   Color1         14993 non-null  object\n",
      " 7   Color2         14993 non-null  object\n",
      " 8   Color3         14993 non-null  object\n",
      " 9   MaturitySize   14993 non-null  object\n",
      " 10  FurLength      14993 non-null  object\n",
      " 11  Vaccinated     14993 non-null  object\n",
      " 12  Dewormed       14993 non-null  object\n",
      " 13  Sterilized     14993 non-null  object\n",
      " 14  Health         14993 non-null  object\n",
      " 15  Quantity       14993 non-null  object\n",
      " 16  Fee            14993 non-null  object\n",
      " 17  State          14993 non-null  object\n",
      " 18  RescuerID      14993 non-null  object\n",
      " 19  VideoAmt       14993 non-null  object\n",
      " 20  Description    14993 non-null  object\n",
      " 21  PetID          14993 non-null  object\n",
      " 22  PhotoAmt       14993 non-null  object\n",
      " 23  AdoptionSpeed  14993 non-null  object\n",
      " 24  x_string       14993 non-null  object\n",
      "dtypes: object(25)\n",
      "memory usage: 2.9+ MB\n",
      "<class 'pandas.core.frame.DataFrame'>\n",
      "Int64Index: 14298 entries, 0 to 14992\n",
      "Data columns (total 2 columns):\n",
      " #   Column         Non-Null Count  Dtype \n",
      "---  ------         --------------  ----- \n",
      " 0   x_string       14298 non-null  object\n",
      " 1   AdoptionSpeed  14298 non-null  object\n",
      "dtypes: object(2)\n",
      "memory usage: 335.1+ KB\n"
     ]
    }
   ],
   "source": [
    "# Further cleanup and removing non-english rows (Chinsese and Malay) -> Could be added to function\n",
    "train_processed = train_processed.fillna('')\n",
    "train_processed = train_processed[train_processed.x_string.map(lambda x: x.isascii())]\n",
    "train.info()\n",
    "train_processed.info()"
   ]
  },
  {
   "cell_type": "code",
   "execution_count": 215,
   "metadata": {},
   "outputs": [
    {
     "data": {
      "text/plain": [
       "(14993, 23563)"
      ]
     },
     "execution_count": 215,
     "metadata": {},
     "output_type": "execute_result"
    }
   ],
   "source": [
    "# Feature extraction and clean-up using bag-of-words model\n",
    "count_vect = CountVectorizer()\n",
    "X_train_counts = count_vect.fit_transform(train_processed[\"x_string\"])\n",
    "X_train_counts.shape"
   ]
  },
  {
   "cell_type": "code",
   "execution_count": null,
   "metadata": {},
   "outputs": [],
   "source": []
  }
 ],
 "metadata": {
  "kernelspec": {
   "display_name": "Python 3",
   "language": "python",
   "name": "python3"
  },
  "language_info": {
   "codemirror_mode": {
    "name": "ipython",
    "version": 3
   },
   "file_extension": ".py",
   "mimetype": "text/x-python",
   "name": "python",
   "nbconvert_exporter": "python",
   "pygments_lexer": "ipython3",
   "version": "3.7.6"
  }
 },
 "nbformat": 4,
 "nbformat_minor": 4
}
