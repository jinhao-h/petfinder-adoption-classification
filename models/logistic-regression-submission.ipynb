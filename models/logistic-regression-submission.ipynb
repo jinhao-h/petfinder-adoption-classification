{
 "cells": [
  {
   "cell_type": "markdown",
   "metadata": {},
   "source": [
    "# Modeling PetFinder.my with Logistic Regression\n",
    "\n",
    "## 1. Load Data "
   ]
  },
  {
   "cell_type": "code",
   "execution_count": 1,
   "metadata": {
    "execution": {
     "iopub.execute_input": "2021-08-01T05:45:41.895034Z",
     "iopub.status.busy": "2021-08-01T05:45:41.894578Z",
     "iopub.status.idle": "2021-08-01T05:45:43.173344Z",
     "shell.execute_reply": "2021-08-01T05:45:43.172306Z",
     "shell.execute_reply.started": "2021-08-01T05:45:41.894935Z"
    }
   },
   "outputs": [],
   "source": [
    "import pandas as pd\n",
    "import numpy as np\n",
    "import matplotlib.pyplot as plt\n",
    "import matplotlib as mpl\n",
    "import seaborn as sns\n",
    "\n",
    "from sklearn.pipeline import Pipeline\n",
    "\n",
    "from sklearn.compose import ColumnTransformer\n",
    "from sklearn.preprocessing import StandardScaler\n",
    "from sklearn.preprocessing import OneHotEncoder\n",
    "from sklearn.preprocessing import FunctionTransformer\n",
    "\n",
    "from sklearn.model_selection import cross_val_score\n",
    "from sklearn.model_selection import cross_validate\n",
    "from sklearn.model_selection import KFold\n",
    "from sklearn.model_selection import RepeatedStratifiedKFold\n",
    "from sklearn.model_selection import GridSearchCV\n",
    "from sklearn.model_selection import train_test_split\n",
    "\n",
    "import sklearn.linear_model as lm\n",
    "\n",
    "from sklearn.metrics import accuracy_score\n",
    "from sklearn.metrics import precision_score\n",
    "from sklearn.metrics import recall_score\n",
    "from sklearn.metrics import confusion_matrix\n",
    "from sklearn.metrics import roc_curve, roc_auc_score, auc\n",
    "from sklearn.metrics import make_scorer\n",
    "from sklearn.metrics import cohen_kappa_score # https://www.kaggle.com/aroraaman/quadratic-kappa-metric-explained-in-5-simple-steps\n",
    "\n",
    "sns.set_style(\"darkgrid\")\n",
    "sns.set_context(\"paper\")\n",
    "mpl.style.use(\"seaborn\")"
   ]
  },
  {
   "cell_type": "code",
   "execution_count": 2,
   "metadata": {
    "execution": {
     "iopub.execute_input": "2021-08-01T05:45:43.175335Z",
     "iopub.status.busy": "2021-08-01T05:45:43.174947Z",
     "iopub.status.idle": "2021-08-01T05:45:43.180693Z",
     "shell.execute_reply": "2021-08-01T05:45:43.180042Z",
     "shell.execute_reply.started": "2021-08-01T05:45:43.175296Z"
    }
   },
   "outputs": [],
   "source": [
    "SOURCE_DATA_FOLDER = \"/kaggle/input/petfinder-adoption-prediction/\"\n",
    "TRAIN_IMAGE_FOLDER = SOURCE_DATA_FOLDER + \"train_images/\"\n",
    "TRAIN_METADATA_FOLDER = SOURCE_DATA_FOLDER + \"train_metadata/\"\n",
    "TRAIN_SENTIMENT_FOLDER = SOURCE_DATA_FOLDER + \"train_sentiment/\"\n",
    "\n",
    "BREED_LABELS = SOURCE_DATA_FOLDER + \"breed_labels.csv\"\n",
    "COLOR_LABELS = SOURCE_DATA_FOLDER + \"color_labels.csv\"\n",
    "STATE_LABELS = SOURCE_DATA_FOLDER + \"state_labels.csv\"\n",
    "TRAIN_TABULAR = SOURCE_DATA_FOLDER + \"train/train.csv\"\n",
    "TEST_TABULAR = SOURCE_DATA_FOLDER + \"test/test.csv\"\n",
    "\n",
    "quadratic_kappa_scorer = make_scorer(cohen_kappa_score, weights='quadratic')"
   ]
  },
  {
   "cell_type": "code",
   "execution_count": 3,
   "metadata": {
    "execution": {
     "iopub.execute_input": "2021-08-01T05:45:43.182405Z",
     "iopub.status.busy": "2021-08-01T05:45:43.181997Z",
     "iopub.status.idle": "2021-08-01T05:45:43.506494Z",
     "shell.execute_reply": "2021-08-01T05:45:43.505599Z",
     "shell.execute_reply.started": "2021-08-01T05:45:43.182377Z"
    }
   },
   "outputs": [],
   "source": [
    "train_tabular_df = pd.read_csv(TRAIN_TABULAR)\n",
    "test_tabular_df = pd.read_csv(TEST_TABULAR)"
   ]
  },
  {
   "cell_type": "markdown",
   "metadata": {},
   "source": [
    "## 2. Preprocess data and transform features"
   ]
  },
  {
   "cell_type": "code",
   "execution_count": 4,
   "metadata": {
    "execution": {
     "iopub.execute_input": "2021-08-01T05:45:43.509010Z",
     "iopub.status.busy": "2021-08-01T05:45:43.508587Z",
     "iopub.status.idle": "2021-08-01T05:45:43.535381Z",
     "shell.execute_reply": "2021-08-01T05:45:43.534028Z",
     "shell.execute_reply.started": "2021-08-01T05:45:43.508956Z"
    }
   },
   "outputs": [],
   "source": [
    "def getRescuerIDCountMap(data):\n",
    "    rescuerid_counts = data['RescuerID'].value_counts().to_dict()\n",
    "    return rescuerid_counts\n",
    "\n",
    "def encodeRescuerIDCount(data, mapping):\n",
    "    dataset = data.copy()\n",
    "    dataset['RescuerID_Count'] = dataset['RescuerID'].map(mapping).fillna(0)\n",
    "    return dataset\n",
    "\n",
    "def createRescuerIDCount(data):\n",
    "    # RescuerID Counts\n",
    "    dataset = data.copy()\n",
    "    rescuerid_counts = getRescuerIDCountMap(dataset)\n",
    "    dataset = encodeRescuerIDCount(dataset, rescuerid_counts)\n",
    "    return dataset, rescuerid_counts\n",
    "\n",
    "def createDummyVariables(data):\n",
    "    dataset = data.copy()\n",
    "    # fee 0 dummy\n",
    "    dataset['Flag_Fee_0'] = np.nan\n",
    "    dataset['Flag_Fee_0'] = dataset['Flag_Fee_0'].mask(dataset['Fee'] == 0, 1)\n",
    "    dataset['Flag_Fee_0'] = dataset['Flag_Fee_0'].fillna(0)\n",
    "\n",
    "    # breed dummy variables\n",
    "    mixed_breed_id = 307\n",
    "\n",
    "    # pure breeds are where Breed1 == Breed2\n",
    "    pure_breed_cond = (dataset['Breed1'] != mixed_breed_id) & (dataset['Breed1'] == dataset['Breed2'])\n",
    "    dataset['Flag_Pure_Breed'] = np.nan\n",
    "    dataset['Flag_Pure_Breed'] = dataset['Flag_Pure_Breed'].mask(pure_breed_cond, 1)\n",
    "    dataset['Flag_Pure_Breed'] = dataset['Flag_Pure_Breed'].fillna(0)\n",
    "\n",
    "    # we define mixed breeds as Breed1 or Breed2 being Mixed-Breed, or Breed1 != Breed2 where Breed1 and Breed2 are not Mixed-Breed\n",
    "    mixed_breed_cond = ((dataset['Breed1'] == 307) | (dataset['Breed2'] == 307)) | ((dataset['Breed1'] != dataset['Breed2']) & \n",
    "                                                                                             (dataset['Breed2'] != 0) & \n",
    "                                                                                             (dataset['Breed2'] != 307)& \n",
    "                                                                                             (dataset['Breed1'] != 307))\n",
    "    dataset['Flag_Mixed_Breed'] = np.nan\n",
    "    dataset['Flag_Mixed_Breed'] = dataset['Flag_Mixed_Breed'].mask(mixed_breed_cond, 1)\n",
    "    dataset['Flag_Mixed_Breed'] = dataset['Flag_Mixed_Breed'].fillna(0)\n",
    "    \n",
    "    # age < 3 months\n",
    "    dataset['Flag_Age_le_3'] = np.nan\n",
    "    dataset['Flag_Age_le_3'] = dataset['Flag_Age_le_3'].mask(dataset['Age'] <= 3, 1)\n",
    "    dataset['Flag_Age_le_3'] = dataset['Flag_Age_le_3'].fillna(0)\n",
    "    \n",
    "    # Name exists\n",
    "    dataset['Flag_Name'] = np.nan\n",
    "    dataset['Flag_Name'] = dataset['Flag_Name'].mask(dataset['Name'].isnull(), 1)\n",
    "    dataset['Flag_Name'] = dataset['Flag_Name'].fillna(0)\n",
    "    return dataset\n",
    "\n",
    "def standardiseVariables(data):\n",
    "#    std_cols = ['Age', 'Quantity', 'Fee', 'VideoAmt', 'PhotoAmt', 'RescuerID_Count']\n",
    "    std_cols = ['Age', 'Quantity', 'Fee', 'VideoAmt', 'PhotoAmt']\n",
    "    dataset = data.copy()\n",
    "    dataset[[c + \"_std\" for c in std_cols]] = StandardScaler().fit_transform(dataset[std_cols])\n",
    "    return dataset\n",
    "\n",
    "def oneHotEncode(data):\n",
    "    dummy_cols = ['Type','Gender','Health','FurLength','State','Color1','Color2','Color3']\n",
    "    dataset = data.copy()\n",
    "    return pd.get_dummies(dataset, columns=dummy_cols)\n",
    "\n",
    "def getTargetEncodingMap(data, col, response):\n",
    "    target_map = data.groupby([col])[response].mean().to_dict()\n",
    "    return target_map\n",
    "\n",
    "def targetEncodeFeature(data, col, mapping):\n",
    "    # yes i know this is the same as above but im literally so lazy so ctrl c + v\n",
    "    dataset = data.copy()\n",
    "    dataset[col + '_target_encode'] = dataset[col].map(mapping).fillna(0)\n",
    "    return dataset\n",
    "\n",
    "def targetEncodeFeatures(data, cols, response):\n",
    "    # yes i know this is the same as above but im literally so lazy so ctrl c + v\n",
    "    dataset = data.copy()\n",
    "    mappings = dict()\n",
    "    for col in cols:\n",
    "        mapping = getTargetEncodingMap(dataset, col, response)\n",
    "        mappings[col] = mapping\n",
    "        dataset = targetEncodeFeature(dataset, col, mapping)\n",
    "    return dataset, mappings\n",
    "\n",
    "def dropNonFeatureColumns(data):\n",
    "    non_feature_cols = [\n",
    "        'PetID',\n",
    "        'Name',\n",
    "        'RescuerID',\n",
    "        'Age',\n",
    "        'Quantity',\n",
    "        'Fee',\n",
    "        'PhotoAmt',\n",
    "        'VideoAmt',\n",
    "        'Description',\n",
    "        'Breed1',\n",
    "        'Breed2'\n",
    "    ]\n",
    "    dataset = data.copy()\n",
    "    return dataset.drop(columns=non_feature_cols)\n",
    "\n",
    "def preProcessTrain(data):\n",
    "    mappings = dict()\n",
    "    data, mappings['RescuerID'] = createRescuerIDCount(data)\n",
    "    data = createDummyVariables(data)\n",
    "    data = standardiseVariables(data)\n",
    "    data = oneHotEncode(data)\n",
    "    data, target_mappings = targetEncodeFeatures(data,\n",
    "                                                cols=['Breed1', 'Breed2'],\n",
    "                                                response='AdoptionSpeed')\n",
    "    mappings.update(target_mappings)\n",
    "    data = dropNonFeatureColumns(data)\n",
    "    return data, mappings\n",
    "\n",
    "def preProcessTest(data, mappings, train_cols):\n",
    "    train_cols = list(train_cols)\n",
    "    train_cols.remove('AdoptionSpeed')\n",
    "    data = data.fillna(0)\n",
    "    data = encodeRescuerIDCount(data, mappings['RescuerID'])\n",
    "    data = createDummyVariables(data)\n",
    "    data = standardiseVariables(data)\n",
    "    data = oneHotEncode(data)\n",
    "    data = targetEncodeFeature(data, 'Breed1', mappings['Breed1'])\n",
    "    data = targetEncodeFeature(data, 'Breed2', mappings['Breed2'])\n",
    "    data = dropNonFeatureColumns(data)\n",
    "    data = data[train_cols]\n",
    "    return data"
   ]
  },
  {
   "cell_type": "code",
   "execution_count": 5,
   "metadata": {
    "execution": {
     "iopub.execute_input": "2021-08-01T05:45:43.537672Z",
     "iopub.status.busy": "2021-08-01T05:45:43.537168Z",
     "iopub.status.idle": "2021-08-01T05:45:43.756849Z",
     "shell.execute_reply": "2021-08-01T05:45:43.755806Z",
     "shell.execute_reply.started": "2021-08-01T05:45:43.537628Z"
    }
   },
   "outputs": [],
   "source": [
    "train, mappings = preProcessTrain(train_tabular_df)\n",
    "test = preProcessTest(test_tabular_df, mappings, train.columns)"
   ]
  },
  {
   "cell_type": "code",
   "execution_count": 6,
   "metadata": {
    "execution": {
     "iopub.execute_input": "2021-08-01T05:45:43.758307Z",
     "iopub.status.busy": "2021-08-01T05:45:43.758016Z",
     "iopub.status.idle": "2021-08-01T05:45:43.771876Z",
     "shell.execute_reply": "2021-08-01T05:45:43.770871Z",
     "shell.execute_reply.started": "2021-08-01T05:45:43.758282Z"
    }
   },
   "outputs": [
    {
     "data": {
      "text/plain": [
       "(14993, 63)"
      ]
     },
     "execution_count": 6,
     "metadata": {},
     "output_type": "execute_result"
    }
   ],
   "source": [
    "train.shape"
   ]
  },
  {
   "cell_type": "markdown",
   "metadata": {},
   "source": [
    "## 3. Train and Evaluate\n",
    "\n",
    "1. Split datasets into features and responses\n",
    "2. Fit on training data\n",
    "3. Test on unseen test data\n",
    "4. Create submission file and submit."
   ]
  },
  {
   "cell_type": "code",
   "execution_count": 7,
   "metadata": {
    "execution": {
     "iopub.execute_input": "2021-08-01T05:45:43.773447Z",
     "iopub.status.busy": "2021-08-01T05:45:43.773183Z",
     "iopub.status.idle": "2021-08-01T05:45:43.780403Z",
     "shell.execute_reply": "2021-08-01T05:45:43.779418Z",
     "shell.execute_reply.started": "2021-08-01T05:45:43.773423Z"
    }
   },
   "outputs": [],
   "source": [
    "def splitDataXY(dataset, response_column):\n",
    "    temp = dataset.copy()\n",
    "    Y_train = temp[response_column]\n",
    "    X_train = temp.drop(columns=[response_column])\n",
    "    return X_train, Y_train"
   ]
  },
  {
   "cell_type": "markdown",
   "metadata": {},
   "source": [
    "We use the values obtained from Gridsearch (code not run here)\n",
    "\n",
    "```\n",
    "grid = {'C': [0.0001, 0.001, 0.01, 1, 10, 100],\n",
    "        'class_weight': [None, 'balanced']}\n",
    "\n",
    "logreg = lm.LogisticRegression(solver='saga', max_iter=10000)\n",
    "gridsearch_model = GridSearchCV(logreg,\n",
    "                                 grid, \n",
    "#                                 cv=5, #\n",
    "                                 scoring=quadratic_kappa_scorer, \n",
    "                                 return_train_score=True,\n",
    "                                 verbose=3,\n",
    "                                 n_jobs=-1)\n",
    "gridsearch_model.fit(X_train, Y_train)\n",
    "```\n",
    "\n",
    "```\n",
    "$ Average time taken per fit: 61.51685015360514\n",
    "$ Best Parameters: {'C': 10, 'class_weight': None}\n",
    "$ Best Quadratic Kappa 0.3104591557225801\n",
    "```"
   ]
  },
  {
   "cell_type": "code",
   "execution_count": 8,
   "metadata": {
    "execution": {
     "iopub.execute_input": "2021-08-01T05:45:43.783016Z",
     "iopub.status.busy": "2021-08-01T05:45:43.782721Z",
     "iopub.status.idle": "2021-08-01T05:48:37.697313Z",
     "shell.execute_reply": "2021-08-01T05:48:37.696184Z",
     "shell.execute_reply.started": "2021-08-01T05:45:43.782976Z"
    }
   },
   "outputs": [
    {
     "name": "stdout",
     "output_type": "stream",
     "text": [
      "Training score: 0.32154314958064956\n"
     ]
    }
   ],
   "source": [
    "X_train_df, Y_train_df = splitDataXY(train, 'AdoptionSpeed')\n",
    "X_train = X_train_df.to_numpy()\n",
    "Y_train = Y_train_df.to_numpy()\n",
    "\n",
    "logreg = lm.LogisticRegression(solver='saga', \n",
    "                               penalty= 'l1', \n",
    "                               C=10, \n",
    "                               class_weight=None,\n",
    "                               max_iter=10000, \n",
    "                               n_jobs=-1)\n",
    "\n",
    "logreg.fit(X_train, Y_train)\n",
    "\n",
    "predicted = logreg.predict(test)\n",
    "\n",
    "print(\"Training score:\", cohen_kappa_score(logreg.predict(X_train), Y_train, weights='quadratic'))"
   ]
  },
  {
   "cell_type": "code",
   "execution_count": 9,
   "metadata": {
    "execution": {
     "iopub.execute_input": "2021-08-01T05:48:37.699796Z",
     "iopub.status.busy": "2021-08-01T05:48:37.699178Z",
     "iopub.status.idle": "2021-08-01T05:48:37.717882Z",
     "shell.execute_reply": "2021-08-01T05:48:37.716428Z",
     "shell.execute_reply.started": "2021-08-01T05:48:37.699742Z"
    },
    "scrolled": true,
    "tags": []
   },
   "outputs": [
    {
     "name": "stdout",
     "output_type": "stream",
     "text": [
      "0. MaturitySize\n",
      "1. Vaccinated\n",
      "2. Dewormed\n",
      "3. Sterilized\n",
      "4. RescuerID_Count\n",
      "5. Flag_Fee_0\n",
      "6. Flag_Pure_Breed\n",
      "7. Flag_Mixed_Breed\n",
      "8. Flag_Age_le_3\n",
      "9. Flag_Name\n",
      "10. Age_std\n",
      "11. Quantity_std\n",
      "12. Fee_std\n",
      "13. VideoAmt_std\n",
      "14. PhotoAmt_std\n",
      "15. Type_1\n",
      "16. Type_2\n",
      "17. Gender_1\n",
      "18. Gender_2\n",
      "19. Gender_3\n",
      "20. Health_1\n",
      "21. Health_2\n",
      "22. Health_3\n",
      "23. FurLength_1\n",
      "24. FurLength_2\n",
      "25. FurLength_3\n",
      "26. State_41324\n",
      "27. State_41325\n",
      "28. State_41326\n",
      "29. State_41327\n",
      "30. State_41330\n",
      "31. State_41332\n",
      "32. State_41335\n",
      "33. State_41336\n",
      "34. State_41342\n",
      "35. State_41345\n",
      "36. State_41361\n",
      "37. State_41367\n",
      "38. State_41401\n",
      "39. State_41415\n",
      "40. Color1_1\n",
      "41. Color1_2\n",
      "42. Color1_3\n",
      "43. Color1_4\n",
      "44. Color1_5\n",
      "45. Color1_6\n",
      "46. Color1_7\n",
      "47. Color2_0\n",
      "48. Color2_2\n",
      "49. Color2_3\n",
      "50. Color2_4\n",
      "51. Color2_5\n",
      "52. Color2_6\n",
      "53. Color2_7\n",
      "54. Color3_0\n",
      "55. Color3_3\n",
      "56. Color3_4\n",
      "57. Color3_5\n",
      "58. Color3_6\n",
      "59. Color3_7\n",
      "60. Breed1_target_encode\n",
      "61. Breed2_target_encode\n"
     ]
    }
   ],
   "source": [
    "for i, c in enumerate(X_train_df.columns):\n",
    "    print(f'{i}. {c}')"
   ]
  },
  {
   "cell_type": "code",
   "execution_count": 10,
   "metadata": {
    "execution": {
     "iopub.execute_input": "2021-08-01T05:48:37.720301Z",
     "iopub.status.busy": "2021-08-01T05:48:37.719793Z",
     "iopub.status.idle": "2021-08-01T05:48:37.779819Z",
     "shell.execute_reply": "2021-08-01T05:48:37.778533Z",
     "shell.execute_reply.started": "2021-08-01T05:48:37.720254Z"
    }
   },
   "outputs": [
    {
     "name": "stdout",
     "output_type": "stream",
     "text": [
      "Training score: 0.32154314958064956\n"
     ]
    }
   ],
   "source": [
    "print(\"Training score:\", cohen_kappa_score(logreg.predict(X_train), Y_train, weights='quadratic'))"
   ]
  },
  {
   "cell_type": "code",
   "execution_count": 11,
   "metadata": {
    "execution": {
     "iopub.execute_input": "2021-08-01T05:48:37.781951Z",
     "iopub.status.busy": "2021-08-01T05:48:37.781501Z",
     "iopub.status.idle": "2021-08-01T05:48:37.805681Z",
     "shell.execute_reply": "2021-08-01T05:48:37.804645Z",
     "shell.execute_reply.started": "2021-08-01T05:48:37.781906Z"
    }
   },
   "outputs": [
    {
     "name": "stdout",
     "output_type": "stream",
     "text": [
      "(3972, 2)\n"
     ]
    },
    {
     "data": {
      "text/html": [
       "<div>\n",
       "<style scoped>\n",
       "    .dataframe tbody tr th:only-of-type {\n",
       "        vertical-align: middle;\n",
       "    }\n",
       "\n",
       "    .dataframe tbody tr th {\n",
       "        vertical-align: top;\n",
       "    }\n",
       "\n",
       "    .dataframe thead th {\n",
       "        text-align: right;\n",
       "    }\n",
       "</style>\n",
       "<table border=\"1\" class=\"dataframe\">\n",
       "  <thead>\n",
       "    <tr style=\"text-align: right;\">\n",
       "      <th></th>\n",
       "      <th>PetID</th>\n",
       "      <th>AdoptionSpeed</th>\n",
       "    </tr>\n",
       "  </thead>\n",
       "  <tbody>\n",
       "    <tr>\n",
       "      <th>0</th>\n",
       "      <td>e2dfc2935</td>\n",
       "      <td>4</td>\n",
       "    </tr>\n",
       "    <tr>\n",
       "      <th>1</th>\n",
       "      <td>f153b465f</td>\n",
       "      <td>4</td>\n",
       "    </tr>\n",
       "    <tr>\n",
       "      <th>2</th>\n",
       "      <td>3c90f3f54</td>\n",
       "      <td>2</td>\n",
       "    </tr>\n",
       "    <tr>\n",
       "      <th>3</th>\n",
       "      <td>e02abc8a3</td>\n",
       "      <td>4</td>\n",
       "    </tr>\n",
       "    <tr>\n",
       "      <th>4</th>\n",
       "      <td>09f0df7d1</td>\n",
       "      <td>4</td>\n",
       "    </tr>\n",
       "  </tbody>\n",
       "</table>\n",
       "</div>"
      ],
      "text/plain": [
       "       PetID  AdoptionSpeed\n",
       "0  e2dfc2935              4\n",
       "1  f153b465f              4\n",
       "2  3c90f3f54              2\n",
       "3  e02abc8a3              4\n",
       "4  09f0df7d1              4"
      ]
     },
     "execution_count": 11,
     "metadata": {},
     "output_type": "execute_result"
    }
   ],
   "source": [
    "submission = pd.DataFrame.from_dict({'PetID': test_tabular_df['PetID'],\n",
    "                                     'AdoptionSpeed': predicted})\n",
    "print(submission.shape)\n",
    "submission.head()"
   ]
  },
  {
   "cell_type": "code",
   "execution_count": 12,
   "metadata": {
    "execution": {
     "iopub.execute_input": "2021-08-01T05:48:37.807853Z",
     "iopub.status.busy": "2021-08-01T05:48:37.807243Z",
     "iopub.status.idle": "2021-08-01T05:48:37.834812Z",
     "shell.execute_reply": "2021-08-01T05:48:37.833663Z",
     "shell.execute_reply.started": "2021-08-01T05:48:37.807802Z"
    }
   },
   "outputs": [],
   "source": [
    "submission.to_csv(\"/kaggle/working/submission.csv\", index=False)"
   ]
  },
  {
   "cell_type": "code",
   "execution_count": 13,
   "metadata": {
    "execution": {
     "iopub.execute_input": "2021-08-01T05:48:37.837023Z",
     "iopub.status.busy": "2021-08-01T05:48:37.836390Z",
     "iopub.status.idle": "2021-08-01T05:48:37.844405Z",
     "shell.execute_reply": "2021-08-01T05:48:37.843114Z",
     "shell.execute_reply.started": "2021-08-01T05:48:37.836971Z"
    }
   },
   "outputs": [
    {
     "name": "stdout",
     "output_type": "stream",
     "text": [
      "/kaggle/working/__notebook_source__.ipynb\n",
      "/kaggle/working/submission.csv\n"
     ]
    }
   ],
   "source": [
    "import os\n",
    "for dirname, _, filenames in os.walk('/kaggle/working'):\n",
    "    for filename in filenames:\n",
    "        print(os.path.join(dirname, filename))"
   ]
  },
  {
   "cell_type": "code",
   "execution_count": null,
   "metadata": {},
   "outputs": [],
   "source": []
  }
 ],
 "metadata": {
  "kernelspec": {
   "display_name": "Python 3 (ipykernel)",
   "language": "python",
   "name": "python3"
  },
  "language_info": {
   "codemirror_mode": {
    "name": "ipython",
    "version": 3
   },
   "file_extension": ".py",
   "mimetype": "text/x-python",
   "name": "python",
   "nbconvert_exporter": "python",
   "pygments_lexer": "ipython3",
   "version": "3.8.10"
  }
 },
 "nbformat": 4,
 "nbformat_minor": 4
}
