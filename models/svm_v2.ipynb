{
 "cells": [
  {
   "cell_type": "code",
   "execution_count": 36,
   "id": "b0cc9fb9-77d1-4184-a113-a040d723bcaf",
   "metadata": {},
   "outputs": [],
   "source": [
    "import pandas as pd\n",
    "import numpy as np\n",
    "import matplotlib.pyplot as plt\n",
    "import matplotlib as mpl\n",
    "import seaborn as sns\n",
    "\n",
    "from sklearn.pipeline import Pipeline\n",
    "\n",
    "from sklearn.compose import ColumnTransformer\n",
    "from sklearn.preprocessing import StandardScaler\n",
    "from sklearn.preprocessing import OneHotEncoder\n",
    "from sklearn.preprocessing import FunctionTransformer\n",
    "\n",
    "from sklearn.model_selection import cross_val_score\n",
    "from sklearn.model_selection import cross_validate\n",
    "from sklearn.model_selection import KFold\n",
    "from sklearn.model_selection import RepeatedStratifiedKFold\n",
    "from sklearn.model_selection import GridSearchCV\n",
    "from sklearn.model_selection import train_test_split\n",
    "\n",
    "from sklearn import svm\n",
    "from sklearn import metrics\n",
    "from sklearn.metrics import accuracy_score\n",
    "from sklearn.metrics import precision_score\n",
    "from sklearn.metrics import recall_score\n",
    "from sklearn.metrics import confusion_matrix\n",
    "from sklearn.metrics import roc_curve, roc_auc_score, auc\n",
    "from sklearn.metrics import make_scorer\n",
    "from sklearn.metrics import cohen_kappa_score\n",
    "\n",
    "quadratic_kappa_scorer = make_scorer(cohen_kappa_score, weights='quadratic')"
   ]
  },
  {
   "cell_type": "markdown",
   "id": "fb885065-7510-46d9-8f33-ea2ff88493b3",
   "metadata": {},
   "source": [
    "### 1. Load Data"
   ]
  },
  {
   "cell_type": "code",
   "execution_count": 5,
   "id": "5c3ff366-86f7-4a52-8904-45f1ead4d785",
   "metadata": {},
   "outputs": [],
   "source": [
    "train_tabular_df = pd.read_csv('train.csv')\n",
    "test_tabular_df = pd.read_csv('test.csv')"
   ]
  },
  {
   "cell_type": "markdown",
   "id": "172812e2-dc6e-41b1-b628-4f9d095f83b1",
   "metadata": {},
   "source": [
    "### 2. Preprocess Data"
   ]
  },
  {
   "cell_type": "code",
   "execution_count": 7,
   "id": "89d165d2-787e-4618-b18f-6fd35c47b101",
   "metadata": {},
   "outputs": [],
   "source": [
    "def getRescuerIDCountMap(data):\n",
    "    rescuerid_counts = data['RescuerID'].value_counts().to_dict()\n",
    "    return rescuerid_counts\n",
    "\n",
    "def encodeRescuerIDCount(data, mapping):\n",
    "    dataset = data.copy()\n",
    "    dataset['RescuerID_Count'] = dataset['RescuerID'].map(mapping).fillna(0)\n",
    "    return dataset\n",
    "\n",
    "def createRescuerIDCount(data):\n",
    "    # RescuerID Counts\n",
    "    dataset = data.copy()\n",
    "    rescuerid_counts = getRescuerIDCountMap(dataset)\n",
    "    dataset = encodeRescuerIDCount(dataset, rescuerid_counts)\n",
    "    return dataset, rescuerid_counts\n",
    "\n",
    "def createDummyVariables(data):\n",
    "    dataset = data.copy()\n",
    "    # fee 0 dummy\n",
    "    dataset['Flag_Fee_0'] = np.nan\n",
    "    dataset['Flag_Fee_0'] = dataset['Flag_Fee_0'].mask(dataset['Fee'] == 0, 1)\n",
    "    dataset['Flag_Fee_0'] = dataset['Flag_Fee_0'].fillna(0)\n",
    "\n",
    "    # breed dummy variables\n",
    "    mixed_breed_id = 307\n",
    "\n",
    "    # pure breeds are where Breed1 == Breed2\n",
    "    pure_breed_cond = (dataset['Breed1'] != mixed_breed_id) & (dataset['Breed1'] == dataset['Breed2'])\n",
    "    dataset['Flag_Pure_Breed'] = np.nan\n",
    "    dataset['Flag_Pure_Breed'] = dataset['Flag_Pure_Breed'].mask(pure_breed_cond, 1)\n",
    "    dataset['Flag_Pure_Breed'] = dataset['Flag_Pure_Breed'].fillna(0)\n",
    "\n",
    "    # we define mixed breeds as Breed1 or Breed2 being Mixed-Breed, or Breed1 != Breed2 where Breed1 and Breed2 are not Mixed-Breed\n",
    "    mixed_breed_cond = ((dataset['Breed1'] == 307) | (dataset['Breed2'] == 307)) | ((dataset['Breed1'] != dataset['Breed2']) & \n",
    "                                                                                             (dataset['Breed2'] != 0) & \n",
    "                                                                                             (dataset['Breed2'] != 307)& \n",
    "                                                                                             (dataset['Breed1'] != 307))\n",
    "    dataset['Flag_Mixed_Breed'] = np.nan\n",
    "    dataset['Flag_Mixed_Breed'] = dataset['Flag_Mixed_Breed'].mask(mixed_breed_cond, 1)\n",
    "    dataset['Flag_Mixed_Breed'] = dataset['Flag_Mixed_Breed'].fillna(0)\n",
    "    \n",
    "    # age < 3 months\n",
    "    dataset['Flag_Age_le_3'] = np.nan\n",
    "    dataset['Flag_Age_le_3'] = dataset['Flag_Age_le_3'].mask(dataset['Age'] <= 3, 1)\n",
    "    dataset['Flag_Age_le_3'] = dataset['Flag_Age_le_3'].fillna(0)\n",
    "    return dataset\n",
    "\n",
    "def standardiseVariables(data):\n",
    "#    std_cols = ['Age', 'Quantity', 'Fee', 'VideoAmt', 'PhotoAmt', 'RescuerID_Count']\n",
    "    std_cols = ['Age', 'Quantity', 'Fee', 'VideoAmt', 'PhotoAmt']\n",
    "    dataset = data.copy()\n",
    "    dataset[[c + \"_std\" for c in std_cols]] = StandardScaler().fit_transform(dataset[std_cols])\n",
    "    return dataset\n",
    "\n",
    "def oneHotEncode(data):\n",
    "    dummy_cols = ['Type','Gender','Health','FurLength','State','Color1','Color2','Color3']\n",
    "    dataset = data.copy()\n",
    "    return pd.get_dummies(dataset, columns=dummy_cols)\n",
    "\n",
    "def getTargetReEncodingMap(data, col, response):\n",
    "    col_map = {k: idx+1  for idx, k in enumerate(data.groupby([col])[response].mean().sort_values().index)}\n",
    "    return col_map\n",
    "\n",
    "def targetReEncodeFeature(data, col, mapping):\n",
    "    dataset = data.copy()\n",
    "    dataset[col + '_target_encode'] = dataset[col].map(mapping).fillna(0)\n",
    "    return dataset\n",
    "\n",
    "def targetReEncodeFeatures(data, cols, response):\n",
    "    dataset = data.copy()\n",
    "    mappings = dict()\n",
    "    for col in cols:\n",
    "        mapping = getTargetReEncodingMap(dataset, col, response)\n",
    "        mappings[col] = mapping\n",
    "        dataset = targetReEncodeFeature(dataset, col, mapping)\n",
    "    return dataset, mappings\n",
    "\n",
    "def getTargetEncodingMap(data, col, response):\n",
    "    target_map = data.groupby([col])[response].mean().to_dict()\n",
    "    return target_map\n",
    "\n",
    "def targetEncodeFeature(data, col, mapping):\n",
    "    # yes i know this is the same as above but im literally so lazy so ctrl c + v\n",
    "    dataset = data.copy()\n",
    "    dataset[col + '_target_encode'] = dataset[col].map(mapping).fillna(0)\n",
    "    return dataset\n",
    "\n",
    "def targetEncodeFeatures(data, cols, response):\n",
    "    # yes i know this is the same as above but im literally so lazy so ctrl c + v\n",
    "    dataset = data.copy()\n",
    "    mappings = dict()\n",
    "    for col in cols:\n",
    "        mapping = getTargetEncodingMap(dataset, col, response)\n",
    "        mappings[col] = mapping\n",
    "        dataset = targetEncodeFeature(dataset, col, mapping)\n",
    "    return dataset, mappings\n",
    "\n",
    "def dropNonFeatureColumns(data):\n",
    "    non_feature_cols = [\n",
    "        'PetID',\n",
    "        'Name',\n",
    "        'RescuerID',\n",
    "        'Age',\n",
    "        'Quantity',\n",
    "        'Fee',\n",
    "        'PhotoAmt',\n",
    "        'VideoAmt',\n",
    "        'Description',\n",
    "        'Sterilized',\n",
    "        'Vaccinated',\n",
    "        'Dewormed',\n",
    "        'MaturitySize'\n",
    "    ]\n",
    "    dataset = data.copy()\n",
    "    return dataset.drop(columns=non_feature_cols)\n",
    "\n",
    "def preProcessTrain(data):\n",
    "    mappings = dict()\n",
    "    data, mappings['RescuerID'] = createRescuerIDCount(data)\n",
    "    data = createDummyVariables(data)\n",
    "    data = standardiseVariables(data)\n",
    "    data = oneHotEncode(data)\n",
    "    data, target_remappings = targetReEncodeFeatures(data,\n",
    "                                                    cols=['Sterilized', 'Vaccinated', 'Dewormed', 'MaturitySize'],\n",
    "                                                    response='AdoptionSpeed')\n",
    "    data, target_mappings = targetEncodeFeatures(data,\n",
    "                                                cols=['Breed1', 'Breed2'],\n",
    "                                                response='AdoptionSpeed')\n",
    "    mappings.update(target_remappings)\n",
    "    mappings.update(target_mappings)\n",
    "    data = dropNonFeatureColumns(data)\n",
    "    return data, mappings\n",
    "\n",
    "def preProcessTest(data, mappings, train_cols):\n",
    "    train_cols = list(train_cols)\n",
    "    train_cols.remove('AdoptionSpeed')\n",
    "    data = data.fillna(0)\n",
    "    data = encodeRescuerIDCount(data, mappings['RescuerID'])\n",
    "    data = createDummyVariables(data)\n",
    "    data = standardiseVariables(data)\n",
    "    data = oneHotEncode(data)\n",
    "    data = targetReEncodeFeature(data, 'Sterilized', mappings['Sterilized'])\n",
    "    data = targetReEncodeFeature(data, 'Vaccinated', mappings['Vaccinated'])\n",
    "    data = targetReEncodeFeature(data, 'MaturitySize', mappings['MaturitySize'])\n",
    "    data = targetReEncodeFeature(data, 'Dewormed', mappings['Dewormed'])\n",
    "    data = targetEncodeFeature(data, 'Breed1', mappings['Breed1'])\n",
    "    data = targetEncodeFeature(data, 'Breed2', mappings['Breed2'])\n",
    "    data = dropNonFeatureColumns(data)\n",
    "    data = data[train_cols]\n",
    "    return data"
   ]
  },
  {
   "cell_type": "code",
   "execution_count": 8,
   "id": "e879c35a-bbd3-47e7-b49d-48cb2740976d",
   "metadata": {},
   "outputs": [],
   "source": [
    "train, mappings = preProcessTrain(train_tabular_df)\n",
    "test = preProcessTest(test_tabular_df, mappings, train.columns)"
   ]
  },
  {
   "cell_type": "markdown",
   "id": "87a0b726-b7f1-409f-831d-e583c064a7ed",
   "metadata": {},
   "source": [
    "### 3. Tuning Hyperparameters for SVM Model with RBF Kernel"
   ]
  },
  {
   "cell_type": "code",
   "execution_count": 15,
   "id": "89db1004-2ae3-4499-b69f-7c3fe8ce8129",
   "metadata": {},
   "outputs": [],
   "source": [
    "def splitDataXY(dataset, response_column):\n",
    "    temp = dataset.copy()\n",
    "    Y_train = temp[response_column]\n",
    "    X_train = temp.drop(columns=[response_column])\n",
    "    return X_train.to_numpy(), Y_train.to_numpy()"
   ]
  },
  {
   "cell_type": "code",
   "execution_count": 16,
   "id": "f32ead5b-d512-4ff9-8d15-8adced1ff9ab",
   "metadata": {},
   "outputs": [],
   "source": [
    "X_train, Y_train = splitDataXY(train, 'AdoptionSpeed')"
   ]
  },
  {
   "cell_type": "markdown",
   "id": "456227d2-09e3-4ea9-93d4-212a06b01da3",
   "metadata": {},
   "source": [
    " Hyperparameters:\n",
    "1. `C`: \n",
    "- C is the penalty parameter, which represents misclassification or error term, used to maintain regularization. \n",
    "- The misclassification or error term tells the SVM optimization how much error is bearable. This is how you can control the trade-off between decision boundary and misclassification term. \n",
    "- A smaller value of C creates a small-margin hyperplane and a larger value of C creates a larger-margin hyperplane.\n",
    "2. `kernel`: \n",
    "- Kernel transforms the given dataset input data into the required form - linear, polynomial, and radial basis function (RBF). \n",
    "- Polynomial and RBF are useful for non-linear hyperplane. Polynomial and RBF kernels compute the separation line in the higher dimension. \n",
    "3. Gamma `γ` : \n",
    "- A lower value of Gamma will loosely fit the training dataset, whereas a higher value of gamma will exactly fit the training dataset, which causes over-fitting."
   ]
  },
  {
   "cell_type": "code",
   "execution_count": 20,
   "id": "d9a09408-a03b-4bc8-bfd2-9b985c823b96",
   "metadata": {},
   "outputs": [],
   "source": [
    "param_grid = {'C': [0.1, 1, 10, 100, 500, 1000], \n",
    "              'gamma': [1, 0.1, 0.01, 0.001, 0.0001],\n",
    "              'kernel': ['rbf']} \n",
    "  \n",
    "grid = GridSearchCV(svm.SVC(),\n",
    "                    param_grid,\n",
    "                    verbose = 3,\n",
    "                    scoring=quadratic_kappa_scorer)"
   ]
  },
  {
   "cell_type": "code",
   "execution_count": 21,
   "id": "ca9d2832-83e6-4c43-af5b-c754ed32a941",
   "metadata": {},
   "outputs": [
    {
     "name": "stdout",
     "output_type": "stream",
     "text": [
      "Fitting 5 folds for each of 30 candidates, totalling 150 fits\n",
      "[CV 1/5] END .....................C=0.1, gamma=1, kernel=rbf; total time=  45.0s\n",
      "[CV 2/5] END .....................C=0.1, gamma=1, kernel=rbf; total time=  42.6s\n",
      "[CV 3/5] END .....................C=0.1, gamma=1, kernel=rbf; total time=  43.1s\n",
      "[CV 4/5] END .....................C=0.1, gamma=1, kernel=rbf; total time=  43.6s\n",
      "[CV 5/5] END .....................C=0.1, gamma=1, kernel=rbf; total time=  47.9s\n",
      "[CV 1/5] END ...................C=0.1, gamma=0.1, kernel=rbf; total time=  48.8s\n",
      "[CV 2/5] END ...................C=0.1, gamma=0.1, kernel=rbf; total time=  46.4s\n",
      "[CV 3/5] END ...................C=0.1, gamma=0.1, kernel=rbf; total time=  41.2s\n",
      "[CV 4/5] END ...................C=0.1, gamma=0.1, kernel=rbf; total time=  42.0s\n",
      "[CV 5/5] END ...................C=0.1, gamma=0.1, kernel=rbf; total time=  41.7s\n",
      "[CV 1/5] END ..................C=0.1, gamma=0.01, kernel=rbf; total time=  40.9s\n",
      "[CV 2/5] END ..................C=0.1, gamma=0.01, kernel=rbf; total time=  40.8s\n",
      "[CV 3/5] END ..................C=0.1, gamma=0.01, kernel=rbf; total time=  42.0s\n",
      "[CV 4/5] END ..................C=0.1, gamma=0.01, kernel=rbf; total time=  43.4s\n",
      "[CV 5/5] END ..................C=0.1, gamma=0.01, kernel=rbf; total time=  49.2s\n",
      "[CV 1/5] END .................C=0.1, gamma=0.001, kernel=rbf; total time=  44.9s\n",
      "[CV 2/5] END .................C=0.1, gamma=0.001, kernel=rbf; total time=  45.1s\n",
      "[CV 3/5] END .................C=0.1, gamma=0.001, kernel=rbf; total time=  45.3s\n",
      "[CV 4/5] END .................C=0.1, gamma=0.001, kernel=rbf; total time=  44.0s\n",
      "[CV 5/5] END .................C=0.1, gamma=0.001, kernel=rbf; total time=  44.8s\n",
      "[CV 1/5] END ................C=0.1, gamma=0.0001, kernel=rbf; total time=  41.1s\n",
      "[CV 2/5] END ................C=0.1, gamma=0.0001, kernel=rbf; total time=14.6min\n",
      "[CV 3/5] END ................C=0.1, gamma=0.0001, kernel=rbf; total time=  40.2s\n",
      "[CV 4/5] END ................C=0.1, gamma=0.0001, kernel=rbf; total time=  39.5s\n",
      "[CV 5/5] END ................C=0.1, gamma=0.0001, kernel=rbf; total time=  38.9s\n",
      "[CV 1/5] END .......................C=1, gamma=1, kernel=rbf; total time=  50.8s\n",
      "[CV 2/5] END .......................C=1, gamma=1, kernel=rbf; total time=  47.5s\n",
      "[CV 3/5] END .......................C=1, gamma=1, kernel=rbf; total time=  48.4s\n",
      "[CV 4/5] END .......................C=1, gamma=1, kernel=rbf; total time=  46.8s\n",
      "[CV 5/5] END .......................C=1, gamma=1, kernel=rbf; total time=  48.5s\n",
      "[CV 1/5] END .....................C=1, gamma=0.1, kernel=rbf; total time=  43.7s\n",
      "[CV 2/5] END .....................C=1, gamma=0.1, kernel=rbf; total time=  41.9s\n",
      "[CV 3/5] END .....................C=1, gamma=0.1, kernel=rbf; total time=  42.2s\n",
      "[CV 4/5] END .....................C=1, gamma=0.1, kernel=rbf; total time=  42.3s\n",
      "[CV 5/5] END .....................C=1, gamma=0.1, kernel=rbf; total time=  42.7s\n",
      "[CV 1/5] END ....................C=1, gamma=0.01, kernel=rbf; total time=  40.6s\n",
      "[CV 2/5] END ....................C=1, gamma=0.01, kernel=rbf; total time=  41.1s\n",
      "[CV 3/5] END ....................C=1, gamma=0.01, kernel=rbf; total time=  42.9s\n",
      "[CV 4/5] END ....................C=1, gamma=0.01, kernel=rbf; total time=  43.2s\n",
      "[CV 5/5] END ....................C=1, gamma=0.01, kernel=rbf; total time=  41.3s\n",
      "[CV 1/5] END ...................C=1, gamma=0.001, kernel=rbf; total time=  41.8s\n",
      "[CV 2/5] END ...................C=1, gamma=0.001, kernel=rbf; total time=  42.8s\n",
      "[CV 3/5] END ...................C=1, gamma=0.001, kernel=rbf; total time=  42.3s\n",
      "[CV 4/5] END ...................C=1, gamma=0.001, kernel=rbf; total time=  42.9s\n",
      "[CV 5/5] END ...................C=1, gamma=0.001, kernel=rbf; total time=  44.2s\n",
      "[CV 1/5] END ..................C=1, gamma=0.0001, kernel=rbf; total time=  40.8s\n",
      "[CV 2/5] END ..................C=1, gamma=0.0001, kernel=rbf; total time=  38.9s\n",
      "[CV 3/5] END ..................C=1, gamma=0.0001, kernel=rbf; total time=  38.7s\n",
      "[CV 4/5] END ..................C=1, gamma=0.0001, kernel=rbf; total time=  38.2s\n",
      "[CV 5/5] END ..................C=1, gamma=0.0001, kernel=rbf; total time=  39.4s\n",
      "[CV 1/5] END ......................C=10, gamma=1, kernel=rbf; total time=  45.3s\n",
      "[CV 2/5] END ......................C=10, gamma=1, kernel=rbf; total time=  45.3s\n",
      "[CV 3/5] END ......................C=10, gamma=1, kernel=rbf; total time=  44.4s\n",
      "[CV 4/5] END ......................C=10, gamma=1, kernel=rbf; total time=  43.7s\n",
      "[CV 5/5] END ......................C=10, gamma=1, kernel=rbf; total time=  44.9s\n",
      "[CV 1/5] END ....................C=10, gamma=0.1, kernel=rbf; total time=  48.0s\n",
      "[CV 2/5] END ....................C=10, gamma=0.1, kernel=rbf; total time=  50.0s\n",
      "[CV 3/5] END ....................C=10, gamma=0.1, kernel=rbf; total time=  48.0s\n",
      "[CV 4/5] END ....................C=10, gamma=0.1, kernel=rbf; total time=  47.5s\n",
      "[CV 5/5] END ....................C=10, gamma=0.1, kernel=rbf; total time=  47.9s\n",
      "[CV 1/5] END ...................C=10, gamma=0.01, kernel=rbf; total time=  42.0s\n",
      "[CV 2/5] END ...................C=10, gamma=0.01, kernel=rbf; total time=  42.0s\n",
      "[CV 3/5] END ...................C=10, gamma=0.01, kernel=rbf; total time=  45.9s\n",
      "[CV 4/5] END ...................C=10, gamma=0.01, kernel=rbf; total time=  42.1s\n",
      "[CV 5/5] END ...................C=10, gamma=0.01, kernel=rbf; total time=  45.1s\n",
      "[CV 1/5] END ..................C=10, gamma=0.001, kernel=rbf; total time=  44.2s\n",
      "[CV 2/5] END ..................C=10, gamma=0.001, kernel=rbf; total time=  43.9s\n",
      "[CV 3/5] END ..................C=10, gamma=0.001, kernel=rbf; total time=  42.9s\n",
      "[CV 4/5] END ..................C=10, gamma=0.001, kernel=rbf; total time=  43.8s\n",
      "[CV 5/5] END ..................C=10, gamma=0.001, kernel=rbf; total time=  44.9s\n",
      "[CV 1/5] END .................C=10, gamma=0.0001, kernel=rbf; total time=  42.8s\n",
      "[CV 2/5] END .................C=10, gamma=0.0001, kernel=rbf; total time=  43.7s\n",
      "[CV 3/5] END .................C=10, gamma=0.0001, kernel=rbf; total time=  41.9s\n",
      "[CV 4/5] END .................C=10, gamma=0.0001, kernel=rbf; total time=  41.6s\n",
      "[CV 5/5] END .................C=10, gamma=0.0001, kernel=rbf; total time=  42.0s\n",
      "[CV 1/5] END .....................C=100, gamma=1, kernel=rbf; total time=  45.5s\n",
      "[CV 2/5] END .....................C=100, gamma=1, kernel=rbf; total time=  47.4s\n",
      "[CV 3/5] END .....................C=100, gamma=1, kernel=rbf; total time=  45.9s\n",
      "[CV 4/5] END .....................C=100, gamma=1, kernel=rbf; total time=  45.2s\n",
      "[CV 5/5] END .....................C=100, gamma=1, kernel=rbf; total time=  45.2s\n",
      "[CV 1/5] END ...................C=100, gamma=0.1, kernel=rbf; total time=  52.5s\n",
      "[CV 2/5] END ...................C=100, gamma=0.1, kernel=rbf; total time= 1.1min\n",
      "[CV 3/5] END ...................C=100, gamma=0.1, kernel=rbf; total time=  56.8s\n",
      "[CV 4/5] END ...................C=100, gamma=0.1, kernel=rbf; total time=  54.7s\n",
      "[CV 5/5] END ...................C=100, gamma=0.1, kernel=rbf; total time=  55.1s\n",
      "[CV 1/5] END ..................C=100, gamma=0.01, kernel=rbf; total time= 1.0min\n",
      "[CV 2/5] END ..................C=100, gamma=0.01, kernel=rbf; total time=  59.0s\n",
      "[CV 3/5] END ..................C=100, gamma=0.01, kernel=rbf; total time= 1.0min\n",
      "[CV 4/5] END ..................C=100, gamma=0.01, kernel=rbf; total time= 1.0min\n",
      "[CV 5/5] END ..................C=100, gamma=0.01, kernel=rbf; total time=  59.5s\n",
      "[CV 1/5] END .................C=100, gamma=0.001, kernel=rbf; total time= 1.0min\n",
      "[CV 2/5] END .................C=100, gamma=0.001, kernel=rbf; total time= 1.0min\n",
      "[CV 3/5] END .................C=100, gamma=0.001, kernel=rbf; total time=  56.5s\n",
      "[CV 4/5] END .................C=100, gamma=0.001, kernel=rbf; total time=  56.2s\n",
      "[CV 5/5] END .................C=100, gamma=0.001, kernel=rbf; total time=  54.7s\n",
      "[CV 1/5] END ................C=100, gamma=0.0001, kernel=rbf; total time=  45.7s\n",
      "[CV 2/5] END ................C=100, gamma=0.0001, kernel=rbf; total time=  45.2s\n",
      "[CV 3/5] END ................C=100, gamma=0.0001, kernel=rbf; total time=  46.0s\n",
      "[CV 4/5] END ................C=100, gamma=0.0001, kernel=rbf; total time=  49.7s\n",
      "[CV 5/5] END ................C=100, gamma=0.0001, kernel=rbf; total time=  44.6s\n",
      "[CV 1/5] END .....................C=500, gamma=1, kernel=rbf; total time=  45.5s\n",
      "[CV 2/5] END .....................C=500, gamma=1, kernel=rbf; total time=  44.6s\n",
      "[CV 3/5] END .....................C=500, gamma=1, kernel=rbf; total time=  43.9s\n",
      "[CV 4/5] END .....................C=500, gamma=1, kernel=rbf; total time=  43.9s\n",
      "[CV 5/5] END .....................C=500, gamma=1, kernel=rbf; total time=  44.6s\n",
      "[CV 1/5] END ...................C=500, gamma=0.1, kernel=rbf; total time=  54.7s\n",
      "[CV 2/5] END ...................C=500, gamma=0.1, kernel=rbf; total time=  57.2s\n",
      "[CV 3/5] END ...................C=500, gamma=0.1, kernel=rbf; total time=  56.4s\n",
      "[CV 4/5] END ...................C=500, gamma=0.1, kernel=rbf; total time=  53.0s\n",
      "[CV 5/5] END ...................C=500, gamma=0.1, kernel=rbf; total time=  56.4s\n",
      "[CV 1/5] END ..................C=500, gamma=0.01, kernel=rbf; total time= 1.7min\n",
      "[CV 2/5] END ..................C=500, gamma=0.01, kernel=rbf; total time= 1.6min\n",
      "[CV 3/5] END ..................C=500, gamma=0.01, kernel=rbf; total time= 1.6min\n",
      "[CV 4/5] END ..................C=500, gamma=0.01, kernel=rbf; total time= 1.8min\n",
      "[CV 5/5] END ..................C=500, gamma=0.01, kernel=rbf; total time= 1.7min\n",
      "[CV 1/5] END .................C=500, gamma=0.001, kernel=rbf; total time= 1.6min\n",
      "[CV 2/5] END .................C=500, gamma=0.001, kernel=rbf; total time= 1.7min\n",
      "[CV 3/5] END .................C=500, gamma=0.001, kernel=rbf; total time= 1.6min\n",
      "[CV 4/5] END .................C=500, gamma=0.001, kernel=rbf; total time= 1.6min\n",
      "[CV 5/5] END .................C=500, gamma=0.001, kernel=rbf; total time= 1.6min\n",
      "[CV 1/5] END ................C=500, gamma=0.0001, kernel=rbf; total time=  54.5s\n",
      "[CV 2/5] END ................C=500, gamma=0.0001, kernel=rbf; total time=  54.1s\n",
      "[CV 3/5] END ................C=500, gamma=0.0001, kernel=rbf; total time=  52.7s\n",
      "[CV 4/5] END ................C=500, gamma=0.0001, kernel=rbf; total time=  54.3s\n",
      "[CV 5/5] END ................C=500, gamma=0.0001, kernel=rbf; total time=  53.1s\n",
      "[CV 1/5] END ....................C=1000, gamma=1, kernel=rbf; total time=  44.5s\n",
      "[CV 2/5] END ....................C=1000, gamma=1, kernel=rbf; total time=  43.5s\n",
      "[CV 3/5] END ....................C=1000, gamma=1, kernel=rbf; total time=  43.5s\n",
      "[CV 4/5] END ....................C=1000, gamma=1, kernel=rbf; total time=  43.3s\n",
      "[CV 5/5] END ....................C=1000, gamma=1, kernel=rbf; total time=  44.1s\n",
      "[CV 1/5] END ..................C=1000, gamma=0.1, kernel=rbf; total time=  52.7s\n",
      "[CV 2/5] END ..................C=1000, gamma=0.1, kernel=rbf; total time=  52.5s\n",
      "[CV 3/5] END ..................C=1000, gamma=0.1, kernel=rbf; total time=  57.8s\n",
      "[CV 4/5] END ..................C=1000, gamma=0.1, kernel=rbf; total time=  57.5s\n",
      "[CV 5/5] END ..................C=1000, gamma=0.1, kernel=rbf; total time=  51.4s\n",
      "[CV 1/5] END .................C=1000, gamma=0.01, kernel=rbf; total time= 2.2min\n",
      "[CV 2/5] END .................C=1000, gamma=0.01, kernel=rbf; total time= 2.1min\n",
      "[CV 3/5] END .................C=1000, gamma=0.01, kernel=rbf; total time= 2.1min\n",
      "[CV 4/5] END .................C=1000, gamma=0.01, kernel=rbf; total time= 2.2min\n",
      "[CV 5/5] END .................C=1000, gamma=0.01, kernel=rbf; total time= 2.3min\n",
      "[CV 1/5] END ................C=1000, gamma=0.001, kernel=rbf; total time= 2.3min\n",
      "[CV 2/5] END ................C=1000, gamma=0.001, kernel=rbf; total time= 2.3min\n",
      "[CV 3/5] END ................C=1000, gamma=0.001, kernel=rbf; total time= 2.3min\n",
      "[CV 4/5] END ................C=1000, gamma=0.001, kernel=rbf; total time= 2.4min\n",
      "[CV 5/5] END ................C=1000, gamma=0.001, kernel=rbf; total time= 2.3min\n",
      "[CV 1/5] END ...............C=1000, gamma=0.0001, kernel=rbf; total time= 1.1min\n",
      "[CV 2/5] END ...............C=1000, gamma=0.0001, kernel=rbf; total time= 1.1min\n",
      "[CV 3/5] END ...............C=1000, gamma=0.0001, kernel=rbf; total time= 1.1min\n",
      "[CV 4/5] END ...............C=1000, gamma=0.0001, kernel=rbf; total time= 1.1min\n",
      "[CV 5/5] END ...............C=1000, gamma=0.0001, kernel=rbf; total time= 1.1min\n"
     ]
    },
    {
     "data": {
      "text/plain": [
       "GridSearchCV(estimator=SVC(),\n",
       "             param_grid={'C': [0.1, 1, 10, 100, 500, 1000],\n",
       "                         'gamma': [1, 0.1, 0.01, 0.001, 0.0001],\n",
       "                         'kernel': ['rbf']},\n",
       "             scoring=make_scorer(cohen_kappa_score, weights=quadratic),\n",
       "             verbose=3)"
      ]
     },
     "execution_count": 21,
     "metadata": {},
     "output_type": "execute_result"
    }
   ],
   "source": [
    "grid.fit(X_train, Y_train)"
   ]
  },
  {
   "cell_type": "code",
   "execution_count": 22,
   "id": "1052e81b-85b3-4580-bfa4-d872b2f210db",
   "metadata": {},
   "outputs": [
    {
     "name": "stdout",
     "output_type": "stream",
     "text": [
      "Best Parameters: {'C': 1000, 'gamma': 0.0001, 'kernel': 'rbf'}\n",
      "Best Quadratic Kappa 0.35471099693582453\n"
     ]
    }
   ],
   "source": [
    "print('Best Parameters:', grid.best_params_)\n",
    "print('Best Quadratic Kappa', grid.best_score_)"
   ]
  },
  {
   "cell_type": "markdown",
   "id": "f70911a6-ce9e-4f9a-81fb-a7fa321e5484",
   "metadata": {},
   "source": [
    "### 4. Train"
   ]
  },
  {
   "cell_type": "code",
   "execution_count": 27,
   "id": "a94d305a-8a84-42fb-a29c-25d9f2aff76e",
   "metadata": {},
   "outputs": [],
   "source": [
    "svm_model = svm.SVC(C=1000, gamma=0.0001, kernel='rbf')"
   ]
  },
  {
   "cell_type": "code",
   "execution_count": 28,
   "id": "d0919991-fc7a-44cc-b195-e9d7b58e6f78",
   "metadata": {},
   "outputs": [
    {
     "data": {
      "text/plain": [
       "SVC(C=1000, gamma=0.0001)"
      ]
     },
     "execution_count": 28,
     "metadata": {},
     "output_type": "execute_result"
    }
   ],
   "source": [
    "svm_model.fit(X_train, Y_train)"
   ]
  },
  {
   "cell_type": "code",
   "execution_count": 34,
   "id": "485025e0-3fbd-4a6c-b8a6-dd0fb61f8990",
   "metadata": {},
   "outputs": [],
   "source": [
    "train_pred = svm_model.predict(X_train)"
   ]
  },
  {
   "cell_type": "markdown",
   "id": "6016e18d-b1c8-42e2-9fad-292ea2b13bbb",
   "metadata": {},
   "source": [
    "### 5. Evaluate"
   ]
  },
  {
   "cell_type": "code",
   "execution_count": 37,
   "id": "80882262-cac2-45c4-8e5a-267642dea142",
   "metadata": {},
   "outputs": [
    {
     "name": "stdout",
     "output_type": "stream",
     "text": [
      "Accuracy:  0.49896618421930233\n"
     ]
    }
   ],
   "source": [
    "print('Accuracy: ', metrics.accuracy_score(train_pred, Y_train))"
   ]
  },
  {
   "cell_type": "code",
   "execution_count": 38,
   "id": "7f6cfc89-7207-4c16-a35f-6318558aabb8",
   "metadata": {},
   "outputs": [
    {
     "name": "stdout",
     "output_type": "stream",
     "text": [
      "Evaluation metric:  0.43731903386610527\n"
     ]
    }
   ],
   "source": [
    "print('Evaluation metric: ', cohen_kappa_score(train_pred, Y_train, weights='quadratic'))"
   ]
  },
  {
   "cell_type": "markdown",
   "id": "954ac8b3-1e7c-4dda-bed8-bf8394e88001",
   "metadata": {},
   "source": [
    "### 6. Adoption Speed Prediction"
   ]
  },
  {
   "cell_type": "code",
   "execution_count": 32,
   "id": "416974fb-4a97-4b64-b738-04fcce7f3905",
   "metadata": {},
   "outputs": [],
   "source": [
    "clf_pred = pd.DataFrame()\n",
    "clf_pred['PetID'] = test_tabular_df['PetID']\n",
    "clf_pred['AdoptionSpeed'] = svm_model.predict(test)"
   ]
  },
  {
   "cell_type": "code",
   "execution_count": 33,
   "id": "12225002-2c89-4af6-9359-16168f310434",
   "metadata": {},
   "outputs": [
    {
     "data": {
      "text/html": [
       "<div>\n",
       "<style scoped>\n",
       "    .dataframe tbody tr th:only-of-type {\n",
       "        vertical-align: middle;\n",
       "    }\n",
       "\n",
       "    .dataframe tbody tr th {\n",
       "        vertical-align: top;\n",
       "    }\n",
       "\n",
       "    .dataframe thead th {\n",
       "        text-align: right;\n",
       "    }\n",
       "</style>\n",
       "<table border=\"1\" class=\"dataframe\">\n",
       "  <thead>\n",
       "    <tr style=\"text-align: right;\">\n",
       "      <th></th>\n",
       "      <th>PetID</th>\n",
       "      <th>AdoptionSpeed</th>\n",
       "    </tr>\n",
       "  </thead>\n",
       "  <tbody>\n",
       "    <tr>\n",
       "      <th>0</th>\n",
       "      <td>e2dfc2935</td>\n",
       "      <td>4</td>\n",
       "    </tr>\n",
       "    <tr>\n",
       "      <th>1</th>\n",
       "      <td>f153b465f</td>\n",
       "      <td>4</td>\n",
       "    </tr>\n",
       "    <tr>\n",
       "      <th>2</th>\n",
       "      <td>3c90f3f54</td>\n",
       "      <td>2</td>\n",
       "    </tr>\n",
       "    <tr>\n",
       "      <th>3</th>\n",
       "      <td>e02abc8a3</td>\n",
       "      <td>4</td>\n",
       "    </tr>\n",
       "    <tr>\n",
       "      <th>4</th>\n",
       "      <td>09f0df7d1</td>\n",
       "      <td>4</td>\n",
       "    </tr>\n",
       "    <tr>\n",
       "      <th>...</th>\n",
       "      <td>...</td>\n",
       "      <td>...</td>\n",
       "    </tr>\n",
       "    <tr>\n",
       "      <th>3967</th>\n",
       "      <td>ae57f8d52</td>\n",
       "      <td>4</td>\n",
       "    </tr>\n",
       "    <tr>\n",
       "      <th>3968</th>\n",
       "      <td>83432904d</td>\n",
       "      <td>4</td>\n",
       "    </tr>\n",
       "    <tr>\n",
       "      <th>3969</th>\n",
       "      <td>399013029</td>\n",
       "      <td>4</td>\n",
       "    </tr>\n",
       "    <tr>\n",
       "      <th>3970</th>\n",
       "      <td>fd80b8c80</td>\n",
       "      <td>4</td>\n",
       "    </tr>\n",
       "    <tr>\n",
       "      <th>3971</th>\n",
       "      <td>493ed84ae</td>\n",
       "      <td>4</td>\n",
       "    </tr>\n",
       "  </tbody>\n",
       "</table>\n",
       "<p>3972 rows × 2 columns</p>\n",
       "</div>"
      ],
      "text/plain": [
       "          PetID  AdoptionSpeed\n",
       "0     e2dfc2935              4\n",
       "1     f153b465f              4\n",
       "2     3c90f3f54              2\n",
       "3     e02abc8a3              4\n",
       "4     09f0df7d1              4\n",
       "...         ...            ...\n",
       "3967  ae57f8d52              4\n",
       "3968  83432904d              4\n",
       "3969  399013029              4\n",
       "3970  fd80b8c80              4\n",
       "3971  493ed84ae              4\n",
       "\n",
       "[3972 rows x 2 columns]"
      ]
     },
     "execution_count": 33,
     "metadata": {},
     "output_type": "execute_result"
    }
   ],
   "source": [
    "clf_pred"
   ]
  },
  {
   "cell_type": "code",
   "execution_count": null,
   "id": "0f2ea8e8-c2c8-4a0c-b945-49b8e3359bcf",
   "metadata": {},
   "outputs": [],
   "source": []
  }
 ],
 "metadata": {
  "kernelspec": {
   "display_name": "Python 3",
   "language": "python",
   "name": "python3"
  },
  "language_info": {
   "codemirror_mode": {
    "name": "ipython",
    "version": 3
   },
   "file_extension": ".py",
   "mimetype": "text/x-python",
   "name": "python",
   "nbconvert_exporter": "python",
   "pygments_lexer": "ipython3",
   "version": "3.8.8"
  }
 },
 "nbformat": 4,
 "nbformat_minor": 5
}
